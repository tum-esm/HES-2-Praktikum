{
 "cells": [
  {
   "cell_type": "markdown",
   "metadata": {},
   "source": [
    "# Einleitung zum Versuch \"Dilution Correction\"\n",
    "Mit diesem Versuchspaket erhaltet ihr ein umfassendes Verständnis für die Notwendigkeit und Methodik der Dilution Correction in der atmosphärischen Messtechnik. Ihr lernt, wie man vom rohen, feuchten Sensorsignal zu einem normierten, trockenen Wert gelangt und welche Rolle dabei physikalische Gesetze und Korrekturverfahren spielen.\n",
    "\n",
    "## Hintergrund und Motivation\n",
    "\n",
    "Moderne Sensoren zur Messung von Gaskonzentrationen (z. B. CO₂) liefern häufig ein **feuchtes Sensorsignal**. Das bedeutet, dass neben der tatsächlichen Gaskonzentration auch der Einfluss von Wasserdampf im Messvolumen enthalten ist. \n",
    "\n",
    "Ein wichtiger Schritt hierbei ist die Umrechnung von Messwerten in **trockene Luft**, häufig ausgedrückt als $CO_2^{dry}$ oder **dry air mole fraction**. Diese Normierung ist entscheidend, da Wasserdampf den gemessenen Wert \"verwässert\" und somit den Stoffmengenanteil (Mole Fraction) des Zielgases verfälscht. "
   ]
  },
  {
   "cell_type": "code",
   "execution_count": 1,
   "metadata": {},
   "outputs": [],
   "source": [
    "import polars as pl\n",
    "import os\n",
    "import sys\n",
    "import numpy as np\n",
    "import matplotlib.pyplot as plt\n",
    "\n",
    "# Add the parent directory to the system path\n",
    "PROJECT_PATH = os.path.abspath(os.path.join(\"..\"))\n",
    "\n",
    "if PROJECT_PATH not in sys.path:\n",
    "    sys.path.append(PROJECT_PATH)\n",
    "    \n",
    "from utils.plot_dataframes import plot_column, plot_columns, plot_column_difference"
   ]
  },
  {
   "cell_type": "code",
   "execution_count": 2,
   "metadata": {},
   "outputs": [],
   "source": [
    "df_p = pl.read_parquet(\"../data/4_Dilution_Correction/Reference_Picarro_G2401.parquet\")\n",
    "df_s = pl.read_parquet(\"../data/4_Dilution_Correction/Sensor_GMP343_Measurement.parquet\")"
   ]
  },
  {
   "cell_type": "code",
   "execution_count": null,
   "metadata": {},
   "outputs": [],
   "source": [
    "plot_columns(df_s, \"datetime\", [\"CO2_out_of_sensor\", \"CO2_dry\"])\n",
    "plot_column_difference(df_s, \"datetime\", [\"CO2_out_of_sensor\", \"CO2_dry\"])\n",
    "plot_column(df_s, \"datetime\", \"h2o_v%\")"
   ]
  },
  {
   "cell_type": "markdown",
   "metadata": {},
   "source": [
    "Fragen\n",
    "\n",
    "- Wie groß sind die Unterschiede zwischen Messung von $CO_2$ in trockener und feuchter Luft?\n",
    "- Wie war das Wetter zum Zeitpunkt der Messungen? (Nutze das Internet)"
   ]
  },
  {
   "cell_type": "markdown",
   "metadata": {},
   "source": [
    "# Relative und Absolute Luftfeuchtigkeit\n",
    "\n",
    "In dieser Übung lernt ihr den Unterschied zwischen absoluter und relativer Luftfeuchtigkeit kennen und berechnet, wie sich bei konstanter absoluter Luftfeuchtigkeit die relative Luftfeuchtigkeit bei unterschiedlichen Temperaturen verändert.\n",
    "\n",
    "---\n",
    "\n",
    "## Hintergrund\n",
    "\n",
    "### Absolute Luftfeuchtigkeit\n",
    "Die absolute Luftfeuchtigkeit gibt an, wie viel Wasserdampf (in Gramm) in einem Kubikmeter Luft enthalten ist (g/m³). Sie misst die Masse des Wasserdampfs in einem bestimmten Luftvolumen.\n",
    "\n",
    "### Relative Luftfeuchtigkeit\n",
    "Die relative Luftfeuchtigkeit (RH) ist das Verhältnis des aktuellen Dampfdrucks $e$ zum Sättigungsdampfdruck $e_s(T)$ bei einer bestimmten Temperatur, ausgedrückt in Prozent:\n",
    "\n",
    "$$\n",
    "RH = \\frac{e}{e_s(T)} \\times 100 \\%\n",
    "$$\n",
    "\n",
    "---\n",
    "\n",
    "## Zusammenhang zwischen absoluter und relativer Luftfeuchtigkeit\n",
    "\n",
    "Um den tatsächlichen Dampfdruck $e$ aus der absoluten Luftfeuchtigkeit $AH$ (in g/m³) zu berechnen, kann folgende Beziehung herangezogen werden:\n",
    "\n",
    "$$\n",
    "e = \\frac{AH \\times (T + 273.15)}{216.7}\n",
    "$$\n",
    "\n",
    "Hierbei ist:\n",
    "- $T$ die Temperatur in °C,\n",
    "- $e$ der Dampfdruck in kPa\n",
    "\n",
    "Der Sättigungsdampfdruck $e_s$ wird häufig mit der Tetens-Formel approximiert:\n",
    "\n",
    "$$\n",
    "e_s(T) = 0.61078 \\times \\exp\\left(\\frac{17.27 \\times T}{T + 237.3}\\right)\n",
    "$$\n",
    "\n",
    "---\n",
    "\n",
    "## Aufgabenstellung\n",
    "\n",
    "Gegeben sei eine konstante absolute Luftfeuchtigkeit, z. B. $AH = 10 \\, \\text{g/m}^3$. Berechnet in Python für einen Temperaturbereich (z. B. von 0 °C bis 40 °C) die relative Luftfeuchtigkeit. Dabei soll für jede Temperatur:\n",
    "\n",
    "1. Der tatsächliche Dampfdruck $e$ aus der absoluten Luftfeuchtigkeit berechnet werden.\n",
    "2. Der Sättigungsdampfdruck $e_s$ mithilfe der Tetens-Formel berechnet werden.\n",
    "3. Die relative Luftfeuchtigkeit $RH$ als Verhältnis $\\frac{e}{e_s}$ in Prozent bestimmt werden."
   ]
  },
  {
   "cell_type": "code",
   "execution_count": 5,
   "metadata": {},
   "outputs": [],
   "source": [
    "# Wichtige Konstanten\n",
    "T0 = 273.15  # T0: float = The 0 C temperature in K\n",
    "TC = 647.096  # TC: float = The critical point temperature of water\n",
    "PC = 22.064e6  # PC: float = The critical point pressure of water\n",
    "P0 = 1013.25e2  # P0: float = Reference pressure at sea level"
   ]
  },
  {
   "cell_type": "markdown",
   "metadata": {},
   "source": [
    "# 🧪 Praktische Übung 1\n",
    "\n",
    "✅ Aufgabe:\n",
    "\n",
    "- Implementiere die Tetens Formel in Python\n",
    "\n",
    "## Nützliche Funktionen:\n",
    "\n",
    "3 + (1/2) = 3.5\n",
    "\n",
    "$\\text{2}^3$ = 2**3\n",
    "\n",
    "$\\text{e}^1$ = np.exp(1)"
   ]
  },
  {
   "cell_type": "code",
   "execution_count": null,
   "metadata": {},
   "outputs": [],
   "source": [
    "# Funktion zur Berechnung des Sättigungsdampfdrucks e_s (in hPa) mittels Tetens-Formel\n",
    "def saturation_vapor_pressure(T):\n",
    "    \"\"\"\n",
    "    Berechnet den Sättigungsdampfdruck von Wasser (in Pascal) bei gegebener Temperatur T in Kelvin\n",
    "    mithilfe der Tetens-Formel.\n",
    "    \n",
    "    Parameter\n",
    "    - T: Temperatur in Kelvin\n",
    "    \n",
    "    Rückgabewert\n",
    "    - e_s: Sättigungsdampfdruck in kPa\n",
    "    \"\"\"\n",
    "    # Tetens-Formel\n",
    "    \n",
    "    return e_s "
   ]
  },
  {
   "cell_type": "code",
   "execution_count": 52,
   "metadata": {},
   "outputs": [],
   "source": [
    "# Prüfe deine Implementierung\n",
    "assert(saturation_vapor_pressure(300) == 3.533969137160892)"
   ]
  },
  {
   "cell_type": "code",
   "execution_count": 57,
   "metadata": {},
   "outputs": [
    {
     "name": "stdout",
     "output_type": "stream",
     "text": [
      "Temperatur: 273.1 °C, Relative Luftfeuchtigkeit: 412.8 %\n",
      "Temperatur: 277.2 °C, Relative Luftfeuchtigkeit: 311.4 %\n",
      "Temperatur: 281.2 °C, Relative Luftfeuchtigkeit: 237.2 %\n",
      "Temperatur: 285.3 °C, Relative Luftfeuchtigkeit: 182.3 %\n",
      "Temperatur: 289.3 °C, Relative Luftfeuchtigkeit: 141.3 %\n",
      "Temperatur: 293.4 °C, Relative Luftfeuchtigkeit: 110.4 %\n",
      "Temperatur: 297.4 °C, Relative Luftfeuchtigkeit: 87.0 %\n",
      "Temperatur: 301.4 °C, Relative Luftfeuchtigkeit: 69.0 %\n",
      "Temperatur: 305.5 °C, Relative Luftfeuchtigkeit: 55.1 %\n",
      "Temperatur: 309.5 °C, Relative Luftfeuchtigkeit: 44.4 %\n"
     ]
    },
    {
     "data": {
      "image/png": "[encoded data removed]",
      "text/plain": [
       "<Figure size 800x500 with 1 Axes>"
      ]
     },
     "metadata": {},
     "output_type": "display_data"
    }
   ],
   "source": [
    "# Konstante absolute Luftfeuchtigkeit (g/m³)\n",
    "AH = 10.0\n",
    "\n",
    "# Temperaturbereich in °C (z. B. 0°C bis 40°C)\n",
    "temperatures = np.linspace(0, 40, 100) + T0\n",
    "\n",
    "# Funktion zur Berechnung des tatsächlichen Dampfdrucks e (in hPa)\n",
    "def actual_vapor_pressure(AH, T):\n",
    "    return (AH * (T + T0)) / 216.7\n",
    "\n",
    "# Berechnung von e, e_s und der relativen Luftfeuchtigkeit RH\n",
    "e = actual_vapor_pressure(AH, temperatures)\n",
    "e_s = saturation_vapor_pressure(temperatures) * 10  # Umwandlung von kPa in hPa\n",
    "RH = (e / e_s) * 100  # relative Luftfeuchtigkeit in Prozent\n",
    "\n",
    "# Ausgabe einiger Ergebnisse\n",
    "for T, rh in zip(temperatures[::10], RH[::10]):  # alle 10. Werte ausgeben\n",
    "    print(f\"Temperatur: {T:.1f} °C, Relative Luftfeuchtigkeit: {rh:.1f} %\")\n",
    "\n",
    "# Plotten der Ergebnisse\n",
    "plt.figure(figsize=(8, 5))\n",
    "plt.plot(temperatures - T0, RH, label='Relative Luftfeuchtigkeit')\n",
    "plt.xlabel('Temperatur (°C)')\n",
    "plt.ylabel('Relative Luftfeuchtigkeit (%)')\n",
    "plt.title('Relative Luftfeuchtigkeit bei konstanter absoluter Luftfeuchtigkeit')\n",
    "plt.grid(True)\n",
    "plt.legend()\n",
    "plt.show()"
   ]
  },
  {
   "cell_type": "markdown",
   "metadata": {},
   "source": [
    "Fragen:\n",
    "\n",
    "- Was bedeutet es, wenn die Luftfeuchtigkeit über 100% ist?"
   ]
  },
  {
   "cell_type": "markdown",
   "metadata": {},
   "source": [
    "## Alternative Methode: Wagner-Gleichung zur Berechnung des Sättigungsdampfdrucks\n",
    "\n",
    "Anstelle der Tetens-Formel kann zur Berechnung des Sättigungsdampfdrucks von Wasser auch die Wagner-Gleichung verwendet werden. Diese Methode bietet eine präzisere Näherung, insbesondere über einen breiteren Temperaturbereich.\n",
    "\n",
    "### Formulierung der Wagner-Gleichung\n",
    "\n",
    "Die Wagner-Gleichung lautet:\n",
    "\n",
    "$$\n",
    "\\ln\\left(\\frac{P}{P_C}\\right) = \\frac{T_C}{T} \\left( c_1 \\theta + c_2 \\theta^{1.5} + c_3 \\theta^3 + c_4 \\theta^{3.5} + c_5 \\theta^4 + c_6 \\theta^{7.5} \\right)\n",
    "$$\n",
    "\n",
    "wobei\n",
    "\n",
    "$$\n",
    "\\theta = 1 - \\frac{T}{T_C}\n",
    "$$\n",
    "\n",
    "und die Parameter definiert sind als:\n",
    "\n",
    "- $T_C$: Kritische Temperatur von Wasser (z. B. $T_C = 647.096\\,\\text{K}$)\n",
    "- $P_C$: Kritischer Druck von Wasser (z. B. $P_C = 22064000\\,\\text{Pa}$)\n",
    "- $c_1 = -7.85951783$\n",
    "- $c_2 = 1.84408259$\n",
    "- $c_3 = -11.7866497$\n",
    "- $c_4 = 22.6807411$\n",
    "- $c_5 = -15.9618719$\n",
    "- $c_6 = 1.80122502$\n",
    "\n",
    "ierbei ist:\n",
    "- $T$ die Temperatur in Kelvin,\n",
    "- $P$ der Dampfdruck in Pa.\n",
    "\n",
    "Mit dieser Gleichung kann der Sättigungsdampfdruck $P$ (auch $e_s$ genannt) bei einer gegebenen Temperatur $T$ in Kelvin berechnet werden."
   ]
  },
  {
   "cell_type": "markdown",
   "metadata": {},
   "source": [
    "# 🧪 Praktische Übung 2\n",
    "\n",
    "✅ Aufgabe:\n",
    "\n",
    "- Implementiere die Wagner Gleichung in Python"
   ]
  },
  {
   "cell_type": "code",
   "execution_count": null,
   "metadata": {},
   "outputs": [],
   "source": [
    "# Koeffizienten der Wagner-Gleichung\n",
    "c1 = -7.85951783\n",
    "c2 = 1.84408259\n",
    "c3 = -11.7866497\n",
    "c4 = 22.6807411\n",
    "c5 = -15.9618719\n",
    "c6 = 1.80122502\n",
    "\n",
    "def saturation_vapor_pressure_wagner(T):\n",
    "    \"\"\"\n",
    "    Berechnet den Sättigungsdampfdruck von Wasser (in Pascal) bei gegebener Temperatur T in Kelvin\n",
    "    mithilfe der Wagner-Gleichung.\n",
    "    \n",
    "    Parameter:\n",
    "    - T: Temperatur in Kelvin\n",
    "    \n",
    "    Rückgabe:\n",
    "    - P: Sättigungsdampfdruck in Pascal\n",
    "    \"\"\"\n",
    "    # Berechnung Theta\n",
    "    theta = 1 - T / TC\n",
    "    \n",
    "    # Berechnung ln(P/P_C): x \n",
    "    x = TC / T * (\n",
    "                c1 * theta\n",
    "                + c2 * theta**1.5\n",
    "                + c3 * theta**3\n",
    "                + c4 * theta**3.5\n",
    "                + c5 * theta**4\n",
    "                + c6 * theta**7.5\n",
    "            )\n",
    "    \n",
    "    # Berechne den Sättigungsdampfdrucks hPa (Tipp: Verwende die Exponentialfunktion np.exp())\n",
    "\n",
    "    \n",
    "    return P"
   ]
  },
  {
   "cell_type": "code",
   "execution_count": 46,
   "metadata": {},
   "outputs": [],
   "source": [
    "assert(saturation_vapor_pressure_wagner(300) == 3536.7175865049244)"
   ]
  },
  {
   "cell_type": "code",
   "execution_count": 47,
   "metadata": {},
   "outputs": [
    {
     "name": "stdout",
     "output_type": "stream",
     "text": [
      "Temperatur: 273.1 °C, Relative Luftfeuchtigkeit: 412.5 %\n",
      "Temperatur: 277.2 °C, Relative Luftfeuchtigkeit: 311.3 %\n",
      "Temperatur: 281.2 °C, Relative Luftfeuchtigkeit: 237.1 %\n",
      "Temperatur: 285.3 °C, Relative Luftfeuchtigkeit: 182.2 %\n",
      "Temperatur: 289.3 °C, Relative Luftfeuchtigkeit: 141.3 %\n",
      "Temperatur: 293.4 °C, Relative Luftfeuchtigkeit: 110.4 %\n",
      "Temperatur: 297.4 °C, Relative Luftfeuchtigkeit: 86.9 %\n",
      "Temperatur: 301.4 °C, Relative Luftfeuchtigkeit: 68.9 %\n",
      "Temperatur: 305.5 °C, Relative Luftfeuchtigkeit: 55.1 %\n",
      "Temperatur: 309.5 °C, Relative Luftfeuchtigkeit: 44.3 %\n"
     ]
    },
    {
     "data": {
      "image/png": "[encoded data removed]",
      "text/plain": [
       "<Figure size 800x500 with 1 Axes>"
      ]
     },
     "metadata": {},
     "output_type": "display_data"
    }
   ],
   "source": [
    "# Konstante absolute Luftfeuchtigkeit (g/m³)\n",
    "AH = 10.0\n",
    "\n",
    "# Temperaturbereich in °C (z. B. 0°C bis 40°C)\n",
    "temperatures = np.linspace(0, 40, 100) + T0\n",
    "\n",
    "# Funktion zur Berechnung des tatsächlichen Dampfdrucks e (in hPa)\n",
    "def actual_vapor_pressure(AH, T):\n",
    "    return (AH * (T + T0)) / 216.7\n",
    "\n",
    "# Berechnung von e, e_s und der relativen Luftfeuchtigkeit RH\n",
    "e = actual_vapor_pressure(AH, temperatures)\n",
    "e_s = saturation_vapor_pressure_wagner(temperatures) / 100  # Umwandlung in hPa\n",
    "RH = (e / e_s) * 100  # relative Luftfeuchtigkeit in Prozent\n",
    "\n",
    "# Ausgabe einiger Ergebnisse\n",
    "for T, rh in zip(temperatures[::10], RH[::10]):  # alle 10. Werte ausgeben\n",
    "    print(f\"Temperatur: {T:.1f} °C, Relative Luftfeuchtigkeit: {rh:.1f} %\")\n",
    "\n",
    "# Plotten der Ergebnisse\n",
    "plt.figure(figsize=(8, 5))\n",
    "plt.plot(temperatures - T0, RH, label='Relative Luftfeuchtigkeit')\n",
    "plt.xlabel('Temperatur (°C)')\n",
    "plt.ylabel('Relative Luftfeuchtigkeit (%)')\n",
    "plt.title('Relative Luftfeuchtigkeit bei konstanter absoluter Luftfeuchtigkeit')\n",
    "plt.grid(True)\n",
    "plt.legend()\n",
    "plt.show()"
   ]
  },
  {
   "cell_type": "markdown",
   "metadata": {},
   "source": [
    "Fragen\n",
    "\n",
    "- Wie unterscheiden sich die Ergebnisse von den Annäherungen durch Tetens und Wagner?\n",
    "- Was bedeutet es für die absolute Luftfeuchtigkeit, wenn man die gleiche relative Luftfeuchtigkeit bei unterschiedlichen Temperaturen misst?"
   ]
  },
  {
   "cell_type": "markdown",
   "metadata": {},
   "source": [
    "# Kurze Erklärung des Taupunkts\n",
    "\n",
    "Der **Taupunkt** ist die Temperatur, bei der die in der Luft enthaltene Wasserdampfmenge so hoch ist, dass die Luft bei weiterer Abkühlung gesättigt wird (d.h. eine relative Luftfeuchtigkeit von 100 % erreicht). Bei Erreichen des Taupunkts beginnt der Wasserdampf zu kondensieren, was zur Bildung von Tau, Nebel oder Wolken führen kann. Der Taupunkt ist daher ein wichtiges Maß, um die Feuchtigkeitsverhältnisse in der Atmosphäre zu beschreiben.\n",
    "\n",
    "- **Tetens-Formel:**  \n",
    "  Die Tetens-Formel ist relativ einfach und wird in der Praxis häufig verwendet. Sie eignet sich besonders für schnelle Abschätzungen.\n",
    "\n",
    "- **Wagner-Gleichung:**  \n",
    "  Die Wagner-Gleichung bietet eine deutlich höhere Genauigkeit. Sie wird vor allem in wissenschaftlichen Anwendungen genutzt, bei denen exakte thermodynamische Eigenschaften von Wasser von Bedeutung sind."
   ]
  },
  {
   "cell_type": "markdown",
   "metadata": {},
   "source": [
    "---"
   ]
  },
  {
   "cell_type": "markdown",
   "metadata": {},
   "source": [
    "# Partialdruck und Dalton's Law\n",
    "\n",
    "In dieser Übung werdet ihr den Zusammenhang zwischen Partialdruck, Gesamtdruck und den Stoffmengenanteil (mole fraction) in Gasgemischen verstehen und anwenden. Dabei spielt das **Daltonsche Gesetz** eine zentrale Rolle.\n",
    "\n",
    "---\n",
    "\n",
    "## Hintergrund\n",
    "\n",
    "### Partialdruck\n",
    "Der **Partialdruck** eines Gases in einem Gemisch ist der Druck, den dieses Gas ausüben würde, wenn es allein im Behälter vorhanden wäre. Für ein Gas $i$ gilt:\n",
    "\n",
    "$$\n",
    "P_i = x_i \\times P_{\\text{total}}\n",
    "$$\n",
    "\n",
    "wobei:\n",
    "- $P_i$ der Partialdruck des Gases $i$ ist,\n",
    "- $x_i$ der Stoffmengeanteil (Mole Fraction) von $i$ ist,\n",
    "- $P_{\\text{total}}$ der Gesamtdruck des Gasgemisches ist.\n",
    "\n",
    "### Dalton'sches Gesetz\n",
    "Das **Dalton'sche Gesetz** besagt, dass der Gesamtdruck eines Gemisches gleich der Summe der Partialdrücke der einzelnen Gase ist:\n",
    "\n",
    "$$\n",
    "P_{\\text{total}} = \\sum_{i} P_i\n",
    "$$\n",
    "\n",
    "Diese Beziehung ermöglicht es, die Partialdrücke einzelner Komponenten zu berechnen und zu überprüfen, ob ihre Summe dem Gesamtdruck entspricht.\n",
    "\n",
    "---\n",
    "\n"
   ]
  },
  {
   "cell_type": "markdown",
   "metadata": {},
   "source": [
    "# 🧪 Praktische Übung 3\n",
    "\n",
    "1. **Theoretische Grundlagen:**  \n",
    "   Lest die obigen Erklärungen und stellt sicher, dass ihr den Zusammenhang zwischen den Größen versteht.\n",
    "\n",
    "2. **Berechnung der Partialdrücke:**  \n",
    "   Gegeben ist ein Gasgemisch mit einem Gesamtdruck $P_{\\text{total}}$ und den Stoffmengenanteil der einzelnen Gase.  \n",
    "   Beispiel:  \n",
    "   - $P_{\\text{total}} = 101325 \\, \\text{Pa}$ (1 atm)  \n",
    "   - Luftzusammensetzung (vereinfachtes Modell):\n",
    "     - $x_{\\text{N}_2} = 0.78$\n",
    "     - $x_{\\text{O}_2} = 0.21$\n",
    "     - $x_{\\text{CO}_2} = 0.01$\n",
    "\n",
    "\n",
    "\n",
    "✅ Aufgabe:\n",
    "\n",
    "-   Berechnet für jedes Gas den Partialdruck $P_i$ und überprüft, ob gilt:\n",
    "\n",
    "$$P_{\\text{total}} = P_{\\text{N}_2} + P_{\\text{O}_2} + P_{\\text{CO}_2}$$"
   ]
  },
  {
   "cell_type": "code",
   "execution_count": null,
   "metadata": {},
   "outputs": [],
   "source": [
    "# Nützliche Funktionen\n",
    "\n",
    "dictionary = {}\n",
    "dictionary[\"a\"] = 1\n",
    "dictionary[\"b\"] = 2\n",
    "\n",
    "print(dictionary)\n",
    "\n",
    "for key, value in dictionary.items():\n",
    "    print(key, value)"
   ]
  },
  {
   "cell_type": "code",
   "execution_count": null,
   "metadata": {},
   "outputs": [],
   "source": [
    "def calculate_partial_pressures(gas_mole_fractions, total_pressure):\n",
    "    \"\"\"\n",
    "    Berechnet die Partialdrücke einzelner Gase in einem Gemisch.\n",
    "    \n",
    "    Parameter:\n",
    "    - gas_mole_fractions: dict, wobei die Keys die Gasnamen und die Werte die Stoffmengenanteile sind.\n",
    "    - total_pressure: float, Gesamtdruck des Gasgemisches in Pascal.\n",
    "    \n",
    "    Rückgabe:\n",
    "    - dict: Partialdruck der einzelnen Gase in Pascal.\n",
    "    \"\"\"\n",
    "    partial_pressures = {}\n",
    "    \n",
    "    # Berechnung der Partialdrücke\n",
    "    for gas, mole_fraction in gas_mole_fractions.items():\n",
    "          \n",
    "        \n",
    "    return partial_pressures"
   ]
  },
  {
   "cell_type": "code",
   "execution_count": null,
   "metadata": {},
   "outputs": [],
   "source": [
    "assert(calculate_partial_pressures({\"Test\": 0.33}, 101325) == {\"Test\": 33437.25})"
   ]
  },
  {
   "cell_type": "code",
   "execution_count": null,
   "metadata": {},
   "outputs": [],
   "source": [
    "# Beispiel: Berechnung der Partialdrücke (CO₂ ≈ 420 ppm)\n",
    "\n",
    "#In der Atmosphäre liegt der CO₂-Gehalt typischerweise bei etwa 420 ppm, was einer Stoffmengenanteil (mole fraction) von 420 (1/1_000_000) = 0.00042 entspricht.  \n",
    "\n",
    "# Beispiel-Daten\n",
    "total_pressure = 101325  # Gesamtdruck in Pascal\n",
    "gas_mole_fractions = {\n",
    "    \"N2\": 0.78,\n",
    "    \"O2\": 0.21958,\n",
    "    \"CO2\": 0.00042  # entspricht 420 ppm\n",
    "}\n",
    "\n",
    "# Berechnung der Partialdrücke\n",
    "partial_pressures = calculate_partial_pressures(gas_mole_fractions, total_pressure)\n",
    "print(\"Berechnete Partialdrücke (in Pa):\")\n",
    "for gas, pressure in partial_pressures.items():\n",
    "    print(f\"{gas}: {pressure:.2f} Pa\")\n",
    "\n",
    "# Überprüfung des Dalton'schen Gesetzes\n",
    "sum_partial_pressures = sum(partial_pressures.values())\n",
    "print(f\"\\nSumme der Partialdrücke: {sum_partial_pressures:.2f} Pa\")\n",
    "print(f\"Gesamtdruck: {total_pressure:.2f} Pa\")"
   ]
  },
  {
   "cell_type": "markdown",
   "metadata": {},
   "source": [
    "---"
   ]
  },
  {
   "cell_type": "markdown",
   "metadata": {},
   "source": [
    "In der Realität ist Luft ein Gemisch aus trockenen Gasen (wie $N_2$, $O_2$, $CO_2$ usw.) und Wasserdampf. Der Anteil an Wasserdampf ist variabel und wird oft durch die relative Luftfeuchtigkeit angegeben. Dieser Wasserdampf hat seinen eigenen Partialdruck, der gemäß Dalton'schem Gesetz in die Summe aller Partialdrücke eingeht:\n",
    "\n",
    "$$\n",
    "P_{\\text{total}} = P_{\\text{dry air}} + P_{\\text{H}_2\\text{O}}\n",
    "$$\n",
    "\n",
    "Das bedeutet:\n",
    "- **Wenn der Anteil an Wasserdampf steigt:**  \n",
    "  Erhöht sich der Partialdruck von Wasser ($P_{\\text{H}_2\\text{O}}$). Bei konstantem Gesamtdruck muss der Partialdruck der trockenen Luftkomponenten entsprechend sinken, da ihre Summe zusammen mit dem Wasserdampfdruck den Gesamtdruck ergibt.\n",
    "  \n",
    "- **Auswirkung auf die Messung:**  \n",
    "  Wird der Wasserdampfanteil nicht berücksichtigt, kann es zu Fehlern kommen, wenn man z. B. Gaskonzentrationen (wie CO₂) bezogen auf trockene Luft angibt. Deshalb rechnet man oft von \"wet\" (feuchter) zu \"dry\" (trockener) Luft, um vergleichbare Werte zu erhalten.\n",
    "\n",
    "Kurz zusammengefasst:  \n",
    "Der variable Wasserdampfanteil verändert die Partialdrücke der anderen Gase, da der Gesamtdruck immer die Summe der Partialdrücke aller enthaltenen Gase ist. Ein hoher Wasserdampfanteil führt also zu einem höheren $P_{\\text{H}_2\\text{O}}$ und entsprechend zu geringeren Partialdrücken der trockenen Komponenten, wenn der Gesamtdruck konstant bleibt."
   ]
  },
  {
   "cell_type": "markdown",
   "metadata": {},
   "source": [
    "---"
   ]
  },
  {
   "cell_type": "markdown",
   "metadata": {},
   "source": [
    "# Umrechnung der relativen Luftfeuchtigkeit in das Stoffmengenverhältnis\n",
    "\n",
    "In dieser Übung wandeln wir die relative Luftfeuchtigkeit $rh$ (in %) in das Stoffmengenverhältnis $x_{\\text{H}_2\\text{O}}$ um. Wir nehmen dabeian, dass die Funktion zur Berechnung des Sättigungsdampfdrucks $e_s(T)$ durch die Wagner-Gleichung bestimmt wird.\n",
    "\n",
    "---\n",
    "\n",
    "## Hintergrund\n",
    "\n",
    "$$\n",
    "P_i = x_i \\times P_{\\text{total}}\n",
    "$$\n",
    "\n",
    "$$\n",
    "rh = \\frac{e}{e_s} \\times 100\n",
    "$$\n",
    "\n",
    "Die relative Luftfeuchtigkeit (rH) gibt an, wie viel Prozent des maximal möglichen Wasserdampfdrucks bei einer bestimmten Temperatur vorhanden sind. Der maximale, sätigungsbezogene Dampfdruck bei einer Temperatur $T$ wird durch $e_s(T)$ beschrieben. Zur Umrechnung der relativen Luftfeuchtigkeit in den tatsächlichen Dampfdruck gilt:\n",
    "\n",
    "\n",
    "$$\n",
    "P_{\\text{H}_2\\text{O}} =  e_s(T) \\times \\frac{rh}{100} \n",
    "$$\n",
    "\n",
    "Der Sättigungsdampfdruck $e_s(T)$ bei Temperatur $T$ (in Kelvin) wird hier über die Wagner-Gleichung berechnet (Details sind euch bereits bekannt). Zur Umrechnung der relativen Luftfeuchtigkeit in das Stoffmengenverhältnis nutzen wir die folgende Formel:\n",
    "\n",
    "$$\n",
    "x_{\\text{H}_2\\text{O}} =   \\frac{P_{\\text{H}_2\\text{O}}}{P_{\\text{total}}} =  \\frac{e_s(T) \\times \\frac{rh}{100}}{P_{\\text{total}}}\n",
    "$$\n",
    "\n",
    "wobei:\n",
    "- $x_{\\text{H}_2\\text{O}}$ das Stoffmengenverhältnis ist,\n",
    "- $e_s(T)$ der Sättigungsdampfdruck (in Pascal) bei der Temperatur $T$ ist,\n",
    "- $rh$ die relative Luftfeuchtigkeit (in %) und\n",
    "- $p$ der Umgebungsdruck (in Pascal).\n",
    "\n",
    "---"
   ]
  },
  {
   "cell_type": "markdown",
   "metadata": {},
   "source": [
    "# 🧪 Praktische Übung 4\n",
    "\n",
    "**Verständnisfragen:**\n",
    "   - Erklärt in eigenen Worten, was das Stoffmengenverhältnis $x_{\\text{H}_2\\text{O}}$ beschreibt.\n",
    "   - Wie wirkt sich eine Änderung der relativen Luftfeuchtigkeit $rh$ oder des Umgebungsdrucks $p$ auf das Stoffmengenverhältnis aus?\n",
    "\n",
    "✅ Aufgabe:\n",
    "\n",
    "   - Nutzt die gegebene Umrechnungsformel, um bei vorgegebenen Werten von $rh$, $T$ und $p$ das Stoffmengenverhältnis $x_{\\text{H}_2\\text{O}}$ zu berechnen.\n",
    "   - Beispielwerte:  \n",
    "     - $rh = 40\\%$,  \n",
    "     - $T =  20°C$,  \n",
    "     - $p = 101325 \\, \\text{Pa}$."
   ]
  },
  {
   "cell_type": "code",
   "execution_count": null,
   "metadata": {},
   "outputs": [],
   "source": [
    "# Wir nehmen an, dass die Funktion saturation_vapor_pressure(T)\n",
    "# den Sättigungsdampfdruck e_s(T) in Pa mittels der Wagner-Gleichung berechnet.\n",
    "# Die Implementierung dieser Funktion ist euch bekannt.\n",
    "\n",
    "def rh_to_mole_fraction(rh, T, p):\n",
    "    \"\"\"\n",
    "    Konvertiert die relative Luftfeuchtigkeit (rh in %) in das Stoffmengenverhältnis xh2o.\n",
    "\n",
    "    Parameter:\n",
    "    - rh: relative Luftfeuchtigkeit in %\n",
    "    - T: absolute Temperatur in K\n",
    "    - p: Umgebungsdruck in Pa\n",
    "\n",
    "    Rückgabe:\n",
    "    - x_h2o: Mole fraction\n",
    "    \"\"\"\n",
    "    # Umrechnung von rh in Mole Fraction\n",
    "    \n",
    "    \n",
    "    return x_h2o"
   ]
  },
  {
   "cell_type": "code",
   "execution_count": null,
   "metadata": {},
   "outputs": [],
   "source": [
    "assert(rh_to_mole_fraction(50, 300, 101325) == 0.017452344369627063)"
   ]
  },
  {
   "cell_type": "code",
   "execution_count": null,
   "metadata": {},
   "outputs": [],
   "source": [
    "# Beispiel: rH = 40%, T = 20 °C, p = 101325 Pa\n",
    "\n",
    "rh_example = 40\n",
    "T_example = 20 + T0  # Umwandlung in Kelvin\n",
    "p_example = 101325  # in Pascal\n",
    "\n",
    "x_h2o = rh_to_mole_fraction(rh_example, T_example, p_example)\n",
    "print(f\"Stoffmengenverhältnis: {x_h2o:.6f}\")"
   ]
  },
  {
   "cell_type": "markdown",
   "metadata": {},
   "source": [
    "Fragen\n",
    "\n",
    "- Verändere die Parameter: Wie hoch kann das Stoffmengenverhältnis (mole fraction) von Wasserdampf maximal in der Atmosphäre unter typischen Bedingungen sein?\n",
    "- Wie verändern sich die Partialdrücke bzw. Mole Fractions der anderen Gase, wenn in einem bestimmten Volumen mehr Wasserdampf vorhanden ist?"
   ]
  },
  {
   "cell_type": "markdown",
   "metadata": {},
   "source": [
    "---"
   ]
  },
  {
   "cell_type": "markdown",
   "metadata": {},
   "source": [
    "# Umrechnung von $CO_2^{wet}$ zu $CO_2^{dry}$ mittels des Stoffmengenanteils von Wasser\n",
    "\n",
    "In der atmosphärischen Messtechnik wird die CO₂-Konzentration häufig als $CO_2^{wet}$ (in feuchter Luft) gemessen. Da in der feuchten Luft auch Wasserdampf enthalten ist, entspricht der gemessene Wert nicht dem tatsächlichen CO₂-Stoffmengenanteil der trockenen Luft. Um vergleichbare Daten zu erhalten, wird der Einfluss des Wasserdampfs korrigiert, so erhalten wir den $CO_2^{dry}$, also den CO₂-Stoffmengenanteil bezogen auf die trockene Luft. In der Literatur wird $CO_2^{dry}$ häufig als \"dry air mole fraction\" bezeichnet.\n",
    "\n",
    "\n",
    "## Hintergrund\n",
    "\n",
    "Dies erfolgt mit folgender Gleichung:\n",
    "\n",
    "$$\n",
    "CO_2^{dry} = \\frac{CO_2^{wet}}{1 - x_{H_2O}},\n",
    "$$\n",
    "\n",
    "wobei\n",
    "- $CO_2^{wet}$ die CO₂-Konzentration in feuchter Luft (z.B. in ppm) ist,\n",
    "- $x_{H_2O}$ der Stoffmengenanteil des Wasserdampfs in der Luft darstellt.\n",
    "\n",
    "**Beispiel:**  \n",
    "Angenommen, die gemessene CO₂-Konzentration in feuchter Luft beträgt 420 ppm und der Wasseranteil liegt bei $x_{H_2O} = 0.01$ (also 1 %). Dann berechnet sich:\n",
    "\n",
    "$$\n",
    "CO_2^{dry} = \\frac{420 \\, \\text{ppm}}{1 - 0.01} = \\frac{420}{0.99} \\approx 424.24 \\, \\text{ppm}.\n",
    "$$\n",
    "\n",
    "Das bedeutet, dass die tatsächliche CO₂-Konzentration in der trockenen Luft höher ist, da der Anteil des Wasserdampfs den gemessenen Wert „verwässert“."
   ]
  },
  {
   "cell_type": "markdown",
   "metadata": {},
   "source": [
    "# 🧪 Praktische Übung 5\n",
    "\n",
    "**Theoretische Fragen:**\n",
    "   - Erklärt in eigenen Worten, warum es notwendig ist, von $CO_2^{wet}$ zu $CO_2^{dry}$ umzurechnen.\n",
    "   - Diskutiert, wie sich ein Anstieg des Stoffmengenanteils von Wasser ($x_{H_2O}$) auf die berechnete $CO_2^{dry}$-Konzentration auswirkt.\n",
    "\n",
    "✅ Aufgaben:\n",
    "\n",
    "1. **Berechnungsaufgabe:**\n",
    "   - Berechnet anhand der oben genannten Gleichung $CO_2^{dry}$, wenn $CO_2^{wet} = 420$ ppm und $x_{H_2O} = 0.01$.\n",
    "\n",
    "2. **Programmierung in Python:**\n",
    "  - Schreibt eine Funktion, die den $CO_2^{dry}$-Wert aus dem gemessenen $CO_2^{wet}$ und dem Stoffmengenanteil des Wasserdampfs $x_{H_2O}$ berechnet.\n",
    "   - Testet eure Funktion mit verschiedenen Eingabewerten.\n"
   ]
  },
  {
   "cell_type": "code",
   "execution_count": null,
   "metadata": {},
   "outputs": [],
   "source": [
    "def convert_co2_wet_to_dry(co2_wet, x_h2o):\n",
    "    \"\"\"\n",
    "    Konvertiert den CO2-Stoffmengenanteil in feuchter Luft (co2_wet) in den\n",
    "    Stoffmengenanteil in trockener Luft (co2_dry).\n",
    "\n",
    "    Parameter:\n",
    "    - co2_wet: CO2-Konzentration in feuchter Luft (z.B. in ppm)\n",
    "    - x_h2o: Stoffmengenanteil des Wasserdampfs, z.B. 0.01 für 1%\n",
    "\n",
    "    Rückgabe:\n",
    "    - co2_dry: korrigierte CO2-Konzentration in trockener Luft (ppm)\n",
    "    \"\"\"\n",
    "    # Berechnung des CO2-Anteils in trockener Luft\n",
    "    \n",
    "    return co2_dry"
   ]
  },
  {
   "cell_type": "code",
   "execution_count": null,
   "metadata": {},
   "outputs": [],
   "source": [
    "assert(convert_co2_wet_to_dry(400, 0.01) == 404.04040404040404)"
   ]
  },
  {
   "cell_type": "code",
   "execution_count": null,
   "metadata": {},
   "outputs": [],
   "source": [
    "# Beispiel: co2_wet = 420 ppm, x_h2o = 0.01 (1 %)\n",
    "co2_wet = 420\n",
    "x_h2o = 0.01\n",
    "co2_dry = convert_co2_wet_to_dry(co2_wet, x_h2o)\n",
    "print(f\"CO2_dry: {co2_dry:.2f} ppm\")"
   ]
  },
  {
   "cell_type": "markdown",
   "metadata": {},
   "source": [
    "---"
   ]
  },
  {
   "cell_type": "markdown",
   "metadata": {},
   "source": [
    "# Anwendung der Dilution Correction auf unsere Zeitreihe\n",
    "\n",
    "In dieser Übung wenden wir die Dilution Correction auf eine Zeitreihe an, um den Einfluss des Wasserdampfs auf die CO₂-Messungen zu korrigieren. Hierfür nutzen wir die von euch zuvor implementieren Python Funktionen `rh_to_mole_fraction()` und `convert_co2_wet_to_dry()`.\n",
    "\n",
    "Anschließend lassen wir uns das DataFrame mit den korrigierten Werten ausgeben. \n",
    "\n",
    "Die Dilution Correction ist meistens der erste Schritt in unserer Pipeline, noch bevor wir eine Korrektur durch trockenen Kalibriergase vornehmen. "
   ]
  },
  {
   "cell_type": "code",
   "execution_count": null,
   "metadata": {},
   "outputs": [],
   "source": [
    "def absolute_temperature(temperature: float) -> float:\n",
    "    \"\"\"\n",
    "    Convert temperature in Celsius to Kelvin.\n",
    "    \n",
    "    Parameters:\n",
    "    temperature (float): Temperature in Celsius.\n",
    "    \n",
    "    Returns:\n",
    "    float: Temperature in Kelvin.\n",
    "    \"\"\"\n",
    "    return temperature + T0\n",
    "\n",
    "def wet_to_dry_mole_fraction(df_wet: pl.DataFrame) -> pl.DataFrame:\n",
    "    # perform dry conversion for measurement data\n",
    "    return df_wet.with_columns(pl.struct(['gmp343_temperature','sht45_humidity','bme280_pressure'])\n",
    "        .map_elements(lambda x: (rh_to_mole_fraction(x['sht45_humidity'],absolute_temperature(x['gmp343_temperature']),x['bme280_pressure']*100)), return_dtype=pl.Float64) \\\n",
    "        .alias(\"x_h2o\")) \\\n",
    "        .with_columns(pl.struct(['CO2_out_of_sensor','x_h2o']) \\\n",
    "        .map_elements(lambda x: convert_co2_wet_to_dry(x['CO2_out_of_sensor'],x['x_h2o']), return_dtype=pl.Float64)\n",
    "        .alias(\"CO2_dry_calc\"))"
   ]
  },
  {
   "cell_type": "code",
   "execution_count": null,
   "metadata": {},
   "outputs": [],
   "source": [
    "df = df_s.select([\"datetime\",\"CO2_out_of_sensor\",\"gmp343_temperature\",\"sht45_humidity\",\"bme280_pressure\"])\n",
    "df.head()"
   ]
  },
  {
   "cell_type": "code",
   "execution_count": null,
   "metadata": {},
   "outputs": [],
   "source": [
    "df_dry = df.pipe(wet_to_dry_mole_fraction)\n",
    "df_dry.head()"
   ]
  },
  {
   "cell_type": "code",
   "execution_count": null,
   "metadata": {},
   "outputs": [],
   "source": [
    "df_plot = df_dry.join(df_s.select([\"datetime\", \"CO2_dry\"]), on=\"datetime\", how=\"left\")\n",
    "\n",
    "plot_columns(df_plot, \"datetime\", [\"CO2_dry_calc\", \"CO2_dry\"])\n",
    "plot_column_difference(df_plot, \"datetime\", [\"CO2_dry_calc\", \"CO2_dry\"])"
   ]
  }
 ],
 "metadata": {
  "kernelspec": {
   "display_name": ".venv",
   "language": "python",
   "name": "python3"
  },
  "language_info": {
   "codemirror_mode": {
    "name": "ipython",
    "version": 3
   },
   "file_extension": ".py",
   "mimetype": "text/x-python",
   "name": "python",
   "nbconvert_exporter": "python",
   "pygments_lexer": "ipython3",
   "version": "3.13.2"
  }
 },
 "nbformat": 4,
 "nbformat_minor": 2
}
